{
 "cells": [
  {
   "cell_type": "markdown",
   "metadata": {},
   "source": [
    "As you walk through the door, a glowing humanoid shape yells in your direction. \"You there! Your state appears to be idle. Come help us repair the corruption in this spreadsheet - if we take another millisecond, we'll have to display an hourglass cursor!\"\n",
    "\n",
    "The spreadsheet consists of rows of apparently-random numbers. To make sure the recovery process is on the right track, they need you to calculate the spreadsheet's checksum. For each row, determine the difference between the largest value and the smallest value; the checksum is the sum of all of these differences.\n",
    "\n",
    "For example, given the following spreadsheet:\n",
    "\n",
    "5 1 9 5\n",
    "7 5 3\n",
    "2 4 6 8\n",
    "The first row's largest and smallest values are 9 and 1, and their difference is 8.\n",
    "The second row's largest and smallest values are 7 and 3, and their difference is 4.\n",
    "The third row's difference is 6.\n",
    "In this example, the spreadsheet's checksum would be 8 + 4 + 6 = 18. "
   ]
  },
  {
   "cell_type": "code",
   "execution_count": 1,
   "metadata": {},
   "outputs": [],
   "source": [
    "spreadsheet = \"\"\"1364\t461\t1438\t1456\t818\t999\t105\t1065\t314\t99\t1353\t148\t837\t590\t404\t123\n",
    "204\t99\t235\t2281\t2848\t3307\t1447\t3848\t3681\t963\t3525\t525\t288\t278\t3059\t821\n",
    "280\t311\t100\t287\t265\t383\t204\t380\t90\t377\t398\t99\t194\t297\t399\t87\n",
    "7698\t2334\t7693\t218\t7344\t3887\t3423\t7287\t7700\t2447\t7412\t6147\t231\t1066\t248\t208\n",
    "3740\t837\t4144\t123\t155\t2494\t1706\t4150\t183\t4198\t1221\t4061\t95\t148\t3460\t550\n",
    "1376\t1462\t73\t968\t95\t1721\t544\t982\t829\t1868\t1683\t618\t82\t1660\t83\t1778\n",
    "197\t2295\t5475\t2886\t2646\t186\t5925\t237\t3034\t5897\t1477\t196\t1778\t3496\t5041\t3314\n",
    "179\t2949\t3197\t2745\t1341\t3128\t1580\t184\t1026\t147\t2692\t212\t2487\t2947\t3547\t1120\n",
    "460\t73\t52\t373\t41\t133\t671\t61\t634\t62\t715\t644\t182\t524\t648\t320\n",
    "169\t207\t5529\t4820\t248\t6210\t255\t6342\t4366\t5775\t5472\t3954\t3791\t1311\t7074\t5729\n",
    "5965\t7445\t2317\t196\t1886\t3638\t266\t6068\t6179\t6333\t229\t230\t1791\t6900\t3108\t5827\n",
    "212\t249\t226\t129\t196\t245\t187\t332\t111\t126\t184\t99\t276\t93\t222\t56\n",
    "51\t592\t426\t66\t594\t406\t577\t25\t265\t578\t522\t57\t547\t65\t564\t622\n",
    "215\t2092\t1603\t1001\t940\t2054\t245\t2685\t206\t1043\t2808\t208\t194\t2339\t2028\t2580\n",
    "378\t171\t155\t1100\t184\t937\t792\t1436\t1734\t179\t1611\t1349\t647\t1778\t1723\t1709\n",
    "4463\t4757\t201\t186\t3812\t2413\t2085\t4685\t5294\t5755\t2898\t200\t5536\t5226\t1028\t180\"\"\""
   ]
  },
  {
   "cell_type": "code",
   "execution_count": 19,
   "metadata": {},
   "outputs": [
    {
     "name": "stdout",
     "output_type": "stream",
     "text": [
      "[99, 105, 123, 148, 314, 404, 461, 590, 818, 837, 999, 1065, 1353, 1364, 1438, 1456]\n",
      "1456 99\n",
      "1357\n",
      "[99, 204, 235, 278, 288, 525, 821, 963, 1447, 2281, 2848, 3059, 3307, 3525, 3681, 3848]\n",
      "3848 99\n",
      "3749\n",
      "[87, 90, 99, 100, 194, 204, 265, 280, 287, 297, 311, 377, 380, 383, 398, 399]\n",
      "399 87\n",
      "312\n",
      "[208, 218, 231, 248, 1066, 2334, 2447, 3423, 3887, 6147, 7287, 7344, 7412, 7693, 7698, 7700]\n",
      "7700 208\n",
      "7492\n",
      "[95, 123, 148, 155, 183, 550, 837, 1221, 1706, 2494, 3460, 3740, 4061, 4144, 4150, 4198]\n",
      "4198 95\n",
      "4103\n",
      "[73, 82, 83, 95, 544, 618, 829, 968, 982, 1376, 1462, 1660, 1683, 1721, 1778, 1868]\n",
      "1868 73\n",
      "1795\n",
      "[186, 196, 197, 237, 1477, 1778, 2295, 2646, 2886, 3034, 3314, 3496, 5041, 5475, 5897, 5925]\n",
      "5925 186\n",
      "5739\n",
      "[147, 179, 184, 212, 1026, 1120, 1341, 1580, 2487, 2692, 2745, 2947, 2949, 3128, 3197, 3547]\n",
      "3547 147\n",
      "3400\n",
      "[41, 52, 61, 62, 73, 133, 182, 320, 373, 460, 524, 634, 644, 648, 671, 715]\n",
      "715 41\n",
      "674\n",
      "[169, 207, 248, 255, 1311, 3791, 3954, 4366, 4820, 5472, 5529, 5729, 5775, 6210, 6342, 7074]\n",
      "7074 169\n",
      "6905\n",
      "[196, 229, 230, 266, 1791, 1886, 2317, 3108, 3638, 5827, 5965, 6068, 6179, 6333, 6900, 7445]\n",
      "7445 196\n",
      "7249\n",
      "[56, 93, 99, 111, 126, 129, 184, 187, 196, 212, 222, 226, 245, 249, 276, 332]\n",
      "332 56\n",
      "276\n",
      "[25, 51, 57, 65, 66, 265, 406, 426, 522, 547, 564, 577, 578, 592, 594, 622]\n",
      "622 25\n",
      "597\n",
      "[194, 206, 208, 215, 245, 940, 1001, 1043, 1603, 2028, 2054, 2092, 2339, 2580, 2685, 2808]\n",
      "2808 194\n",
      "2614\n",
      "[155, 171, 179, 184, 378, 647, 792, 937, 1100, 1349, 1436, 1611, 1709, 1723, 1734, 1778]\n",
      "1778 155\n",
      "1623\n",
      "[180, 186, 200, 201, 1028, 2085, 2413, 2898, 3812, 4463, 4685, 4757, 5226, 5294, 5536, 5755]\n",
      "5755 180\n",
      "5575\n"
     ]
    }
   ],
   "source": [
    "checksum = 0\n",
    "for row in spreadsheet.split('\\n'):\n",
    "    row_list = row.split('\\t')\n",
    "    row_list_ints = map(int, row_list)\n",
    "    row_list_ints.sort()\n",
    "    \n",
    "    print row_list_ints\n",
    "    print row_list_ints[-1], row_list_ints[0]\n",
    "    print row_list_ints[-1] - row_list_ints[0]\n",
    "    checksum += row_list_ints[-1] - row_list_ints[0]"
   ]
  },
  {
   "cell_type": "code",
   "execution_count": 20,
   "metadata": {},
   "outputs": [
    {
     "data": {
      "text/plain": [
       "53460"
      ]
     },
     "execution_count": 20,
     "metadata": {},
     "output_type": "execute_result"
    }
   ],
   "source": [
    "checksum"
   ]
  },
  {
   "cell_type": "code",
   "execution_count": null,
   "metadata": {},
   "outputs": [],
   "source": [
    "\"Great work; looks like we're on the right track after all. Here's a star for your effort.\" However, the program seems a little worried. Can programs be worried?\n",
    "\n",
    "\"Based on what we're seeing, it looks like all the User wanted is some information about the evenly divisible values in the spreadsheet. Unfortunately, none of us are equipped for that kind of calculation - most of us specialize in bitwise operations.\"\n",
    "\n",
    "It sounds like the goal is to find the only two numbers in each row where one evenly divides the other - that is, where the result of the division operation is a whole number. They would like you to find those numbers on each line, divide them, and add up each line's result.\n",
    "\n",
    "For example, given the following spreadsheet:\n",
    "\n",
    "5 9 2 8\n",
    "9 4 7 3\n",
    "3 8 6 5\n",
    "In the first row, the only two numbers that evenly divide are 8 and 2; the result of this division is 4.\n",
    "In the second row, the two numbers are 9 and 3; the result is 3.\n",
    "In the third row, the result is 2.\n",
    "In this example, the sum of the results would be 4 + 3 + 2 = 9.\n",
    "\n",
    "What is the sum of each row's result in your puzzle input?"
   ]
  },
  {
   "cell_type": "code",
   "execution_count": 25,
   "metadata": {},
   "outputs": [],
   "source": [
    "checksum = 0\n",
    "for row in spreadsheet.split('\\n'):\n",
    "    row_list = row.split('\\t')\n",
    "    row_list_ints = map(int, row_list)\n",
    "    for pos_1, integer_1 in enumerate(sorted(row_list_ints, reverse=True)):\n",
    "        for pos_2, integer_2 in enumerate(sorted(row_list_ints, reverse=True)):\n",
    "            if pos_1 == pos_2:\n",
    "                pass\n",
    "            elif integer_1 % integer_2 == 0:\n",
    "                checksum += integer_1/integer_2\n",
    "                break"
   ]
  },
  {
   "cell_type": "code",
   "execution_count": 26,
   "metadata": {},
   "outputs": [
    {
     "data": {
      "text/plain": [
       "282"
      ]
     },
     "execution_count": 26,
     "metadata": {},
     "output_type": "execute_result"
    }
   ],
   "source": [
    "checksum"
   ]
  }
 ],
 "metadata": {
  "kernelspec": {
   "display_name": "Python 2",
   "language": "python",
   "name": "python2"
  },
  "language_info": {
   "codemirror_mode": {
    "name": "ipython",
    "version": 2
   },
   "file_extension": ".py",
   "mimetype": "text/x-python",
   "name": "python",
   "nbconvert_exporter": "python",
   "pygments_lexer": "ipython2",
   "version": "2.7.13"
  }
 },
 "nbformat": 4,
 "nbformat_minor": 2
}
